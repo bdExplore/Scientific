{
 "cells": [
  {
   "cell_type": "code",
   "execution_count": null,
   "metadata": {},
   "outputs": [],
   "source": [
    "from scipy.io import loadmat\n",
    "import matplotlib.pyplot as plt\n",
    "import numpy as np\n",
    "from scipy.fft import ifft, fft, fftfreq, fftshift, ifft2, fft2\n",
    "from scipy import signal\n",
    "from scipy.io import wavfile\n",
    "import sklearn\n",
    "import plotly\n",
    "import plotly.graph_objs as go\n",
    "import plotly.express as px\n",
    "from plotly.subplots import make_subplots\n",
    "import pandas as pd\n",
    "from datetime import datetime, timedelta\n",
    "from audio_function import plot1, plot1_f, mean_data_sep, mean_autocorr_signal, corr_t, corr_f, count_time, cos_sim, cr_arr_t, norm_max, load_mat, first_second_part, filt_freq, variation_data, t_central, t_arr_for_corr_t, df\n"
   ]
  },
  {
   "cell_type": "code",
   "execution_count": null,
   "metadata": {},
   "outputs": [],
   "source": [
    "# Загрузка экспериментальных данных и используемые методы\n",
    "sample_rate, audio_data49_3 = wavfile.read('/Users/bogda/Desktop/Acoustics/Scientific/Исходные данные/ExpSummer2024/TASCAM_Files/TASCAM_0049S3.wav')\n",
    "sample_rate, audio_data49_2 = wavfile.read('/Users/bogda/Desktop/Acoustics/Scientific/Исходные данные/ExpSummer2024/TASCAM_Files/TASCAM_0049S2.wav')\n",
    "sample_rate, audio_data16_3 = wavfile.read('/Users/bogda/Desktop/Acoustics/Scientific/Исходные данные/ExpSummer2024/TASCAM_Files/TASCAM_0016S3.wav')\n",
    "sample_rate, audio_data16_2 = wavfile.read('/Users/bogda/Desktop/Acoustics/Scientific/Исходные данные/ExpSummer2024/TASCAM_Files/TASCAM_0016S3.wav')\n",
    "\n",
    "print(f\"Частота дискретизации: {sample_rate} Гц\")\n",
    "print(f\"Форма массива данных: {audio_data49_3.shape}\")"
   ]
  },
  {
   "cell_type": "code",
   "execution_count": null,
   "metadata": {},
   "outputs": [],
   "source": [
    "# Создание массивов, используемых в обработке\n",
    "t_f_arr_1 = cr_arr_t(49)\n",
    "t_f_arr_2 = cr_arr_t(47)\n",
    "audio_data49_3_1 = audio_data49_3[t_f_arr_1[0]]\n",
    "audio_data49_3_2 = audio_data49_3[t_f_arr_2[0]]\n",
    "\n",
    "audio_data49_2_1 = audio_data49_2[t_f_arr_1[0]]\n",
    "audio_data49_2_2 = audio_data49_2[t_f_arr_2[0]]\n",
    "\n",
    "#audio_data16_2_1 = audio_data16_2[t_f_arr_1[0]]\n",
    "#audio_data16_2_2 = audio_data16_2[t_f_arr_2[0]]\n",
    "\n",
    "#audio_data16_3_1 = audio_data16_3[t_f_arr_1[0]]\n",
    "#audio_data16_3_2 = audio_data16_3[t_f_arr_2[0]]\n",
    "\n",
    "\n",
    "\n",
    "min_len_1 = min(len(audio_data49_3_1),len(audio_data49_2_1))"
   ]
  },
  {
   "cell_type": "code",
   "execution_count": null,
   "metadata": {},
   "outputs": [],
   "source": [
    "S_N_arr_2 = []\n",
    "for i in range (0, int(t_f_arr_2[3])):\n",
    "    i_beg = int(i*44100)\n",
    "    i_fin = int((i+1)*44100)\n",
    "    audiodata2_sec = audio_data49_3_2[i_beg:i_fin]\n",
    "    audiodata2_sec = mean_data_sep(audiodata2_sec, 0.1)\n",
    "    audio_data49_3_1_sum = mean_data_sep(audio_data49_3_1, 0.1)\n",
    "    a = cos_sim(audio_data49_3_1_sum, audiodata2_sec, 250)\n",
    "    S_N_arr_2.append(a)\n",
    "    \n",
    "n2 = np.arange(int(len(t_f_arr_2[1])/sample_rate))\n",
    "plt.plot(n2, S_N_arr_2)\n",
    "plt.title('Зависимость схожести от шага в 1 секунду с усреднением')\n",
    "plt.grid(True)\n",
    "plt.legend()\n",
    "plt.show()"
   ]
  },
  {
   "cell_type": "code",
   "execution_count": null,
   "metadata": {},
   "outputs": [],
   "source": [
    "max_autocorr_signal = []\n",
    "\n",
    "for i in range (0, int(t_f_arr_2[3])):\n",
    "    i_beg = int(i*44100)\n",
    "    i_fin = int((i+1)*44100)\n",
    "    audiodata2_sec = audio_data49_3_2[i_beg:i_fin]\n",
    "    audiodata2_sec_mean = mean_data_sep(audiodata2_sec, 0.2)\n",
    "    audio_data49_3_1_mean = mean_data_sep(audio_data49_3_1, 0.2)\n",
    "    \n",
    "    a = np.sqrt(mean_autocorr_signal(audio_data49_3_1_mean, audiodata2_sec_mean, 250))\n",
    "    max_autocorr_signal.append(a)\n",
    "\n",
    "l = len(max_autocorr_signal)\n",
    "N_max = np.arange(l)\n",
    "plt.plot(N_max, max_autocorr_signal)\n",
    "plt.grid(True)\n",
    "plt.title('Зависимоость функции (*) от N секунды')\n",
    "plt.legend()\n",
    "plt.show()"
   ]
  },
  {
   "cell_type": "code",
   "execution_count": null,
   "metadata": {},
   "outputs": [],
   "source": [
    "min_spectrum = []\n",
    "for i in range (0, int(t_f_arr_2[3])):\n",
    "    i_beg = int(i*44100)\n",
    "    i_fin = int((i+1)*44100)\n",
    "    audiodata2_sec = audio_data49_3_2[i_beg:i_fin]\n",
    "    audiodata2_sec_mean = mean_data_sep(audiodata2_sec, 0.1)\n",
    "    audio_data49_3_1_mean = mean_data_sep(audio_data49_3_1, 0.1)\n",
    "    a = np.mean((np.abs(ifft(audiodata2_sec_mean)))**2)\n",
    "    min_spectrum.append(a)\n",
    "\n",
    "l = len(min_spectrum)\n",
    "N_max = np.arange(l)\n",
    "plt.plot(N_max, norm_max(min_spectrum))\n",
    "plt.grid(True)\n",
    "plt.title('Зависимость функции усреднения спектра от N секунды')\n",
    "plt.legend()\n",
    "plt.show()"
   ]
  },
  {
   "cell_type": "code",
   "execution_count": null,
   "metadata": {},
   "outputs": [],
   "source": [
    "# Графики исследований\n",
    "plt.plot(t_f_arr_1[1], audio_data49_3_1, color='brown', label='Small')\n",
    "plt.show()\n",
    "\n",
    "plt.plot(t_f_arr_1[1], audio_data49_2_1, color='blue', label='Small')\n",
    "plt.show()"
   ]
  },
  {
   "cell_type": "code",
   "execution_count": null,
   "metadata": {},
   "outputs": [],
   "source": [
    "plt.plot(t_f_arr_1[2], filt_freq(audio_data49_3_1, 600))\n",
    "plt.title('Портрет DJI MATRICE 300 RTK')\n",
    "plt.grid(True)\n",
    "plt.xlim(-700, 700)\n",
    "plt.legend()\n",
    "plt.show"
   ]
  },
  {
   "cell_type": "code",
   "execution_count": null,
   "metadata": {},
   "outputs": [],
   "source": [
    "S_N_arr_autocorr = []\n",
    "for i in range (0, int(t_f_arr_2[3])):\n",
    "    i_beg = int(i*sample_rate)\n",
    "    i_fin = int((i+1)*sample_rate)\n",
    "    audiodata2_sec = audio_data49_3_2[i_beg:i_fin]\n",
    "    audiodata2_sec = mean_data_sep(audiodata2_sec, 0.1)\n",
    "    audio_data49_3_1_m = mean_data_sep(audio_data49_3_1, 0.1)\n",
    "    a = cos_sim(audio_data49_3_1_m, audiodata2_sec)\n",
    "    S_N_arr_autocorr.append(a)\n",
    "\n",
    "corr_t_2_micr = corr_t(audio_data49_3_2, audio_data49_2_2)\n",
    "t_c = t_arr_for_corr_t(corr_t_2_micr)\n",
    "plt.plot(t_c, (corr_t_2_micr))\n",
    "plt.grid(True)\n",
    "plt.title('Временная корреляция с 2 микрофонов, при пролете около них')\n",
    "plt.legend()\n",
    "plt.show()"
   ]
  },
  {
   "cell_type": "code",
   "execution_count": null,
   "metadata": {},
   "outputs": [],
   "source": [
    "corr_t_2_micr = corr_t(audio_data49_3_1, audio_data49_2_1)\n",
    "t_c = t_arr_for_corr_t(corr_t_2_micr)\n",
    "plt.plot(t_c, (corr_t_2_micr))\n",
    "plt.grid(True)\n",
    "plt.xlim(-0.02, 0.02)\n",
    "plt.title('Временная корреляция с 2 микрофонов, при пролете около них')\n",
    "plt.legend()\n",
    "plt.show"
   ]
  },
  {
   "cell_type": "code",
   "execution_count": null,
   "metadata": {},
   "outputs": [],
   "source": [
    "data1_0db = load_mat('/Users/bogda/Documents/NFS/ Научка/Исходные данные/Matlab_Files/2023.03.31-11.59.31_channel_0.mat')\n",
    "data1_70db = load_mat('/Users/bogda/Documents/NFS/ Научка/Исходные данные/Matlab_Files/2023.03.31-11.52.03_channel_0.mat')\n",
    "Fs = 48000\n",
    "data_first, data_second = first_second_part(data1_0db)\n",
    "mn = min(len(data_first), len(data_second))\n",
    "t = np.arange(int(mn))/Fs\n",
    "t_central = t - mn/Fs/2\n",
    "f1 = fftfreq(mn, 1 / Fs)\n",
    "f = fftfreq(min(len(data1_0db), len(data1_70db)), 1 / Fs)\n",
    "c_t_parts = corr_t(data_first, data_second)\n",
    "c_f_parts = corr_f(data_first, data_second, 1000)\n",
    "autocorr_t = corr_t(data_first, data_first)"
   ]
  },
  {
   "cell_type": "code",
   "execution_count": null,
   "metadata": {},
   "outputs": [],
   "source": [
    "print(S_N_f(data1_0db, data1_70db))"
   ]
  },
  {
   "cell_type": "code",
   "execution_count": null,
   "metadata": {},
   "outputs": [],
   "source": [
    "plot1(t_central, autocorr_t, \"Автокорреляция\")\n",
    "plot1(t_central, (c_t_parts), \"Корреляция 1 и 2 половинки\")"
   ]
  },
  {
   "cell_type": "code",
   "execution_count": null,
   "metadata": {},
   "outputs": [],
   "source": [
    "plt.figure(figsize=(10,4))\n",
    "plt.plot(f1, np.abs(ifft(autocorr_t)), color='blue')\n",
    "plt.ylabel('Амплитуда, у.е.')\n",
    "plt.title('Спектр автокорреляции по t 1 половинки дрона')\n",
    "plt.grid(True)\n",
    "plt.xlim(-2000, 2000)\n",
    "plt.show()"
   ]
  },
  {
   "cell_type": "code",
   "execution_count": null,
   "metadata": {},
   "outputs": [],
   "source": [
    "plt.figure(figsize=(10,4))\n",
    "plt.plot(f1, np.abs(ifft(autocorr_t)), color='blue')\n",
    "plt.ylabel('Амплитуда, у.е.')\n",
    "plt.title('Спектр корреляции по t 1 и 2 половинок дрона')\n",
    "plt.grid(True)\n",
    "plt.xlim(-2000, 2000)\n",
    "plt.show()"
   ]
  }
 ],
 "metadata": {
  "kernelspec": {
   "display_name": "Python 3",
   "language": "python",
   "name": "python3"
  },
  "language_info": {
   "codemirror_mode": {
    "name": "ipython",
    "version": 3
   },
   "file_extension": ".py",
   "mimetype": "text/x-python",
   "name": "python",
   "nbconvert_exporter": "python",
   "pygments_lexer": "ipython3",
   "version": "3.11.8"
  }
 },
 "nbformat": 4,
 "nbformat_minor": 2
}
