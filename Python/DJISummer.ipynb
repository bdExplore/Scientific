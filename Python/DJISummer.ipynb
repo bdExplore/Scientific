{
 "cells": [
  {
   "cell_type": "code",
   "execution_count": 2,
   "metadata": {},
   "outputs": [],
   "source": [
    "from scipy.io import loadmat\n",
    "import matplotlib.pyplot as plt\n",
    "import numpy as np\n",
    "from scipy.fft import ifft, fft, fftfreq, fftshift, ifft2, fft2\n",
    "from scipy import signal\n",
    "from scipy.io import wavfile\n",
    "import sklearn\n",
    "import plotly\n",
    "import plotly.graph_objs as go\n",
    "import plotly.express as px\n",
    "from plotly.subplots import make_subplots\n",
    "import pandas as pd\n",
    "from datetime import datetime, timedelta"
   ]
  },
  {
   "cell_type": "code",
   "execution_count": null,
   "metadata": {},
   "outputs": [],
   "source": [
    "# Загрузка экспериментальных данных и используемые методы\n",
    "sample_rate, audio_data49_3 = wavfile.read('/Users/bogda/Documents/NFS/ Научка/Исходные данные/ExpSummer2024/TASCAM_Files/TASCAM_0049S3.wav')\n",
    "sample_rate, audio_data49_2 = wavfile.read('/Users/bogda/Documents/NFS/ Научка/Исходные данные/ExpSummer2024/TASCAM_Files/TASCAM_0049S2.wav')\n",
    "df = pd.read_excel('/Users/bogda/Desktop/Acoustics/Scientific/Таблицы Данных/Conducting an experiment 30_08.xlsx')\n",
    "\n",
    "print(f\"Частота дискретизации: {sample_rate} Гц\")\n",
    "print(f\"Форма массива данных: {audio_data49_3.shape}\")\n",
    "print(audio_data49_3)\n",
    "\n",
    "def plot1 (X1, Y1, name):\n",
    "    plt.figure(figsize=(10,4))\n",
    "    plt.plot(X1, Y1, color='blue')\n",
    "    plt.ylabel('Амплитуда, у.е.')\n",
    "    plt.title(name)\n",
    "    plt.grid(True)\n",
    "    plt.show()\n",
    "    \n",
    "def plot1_f (X1, Y1, name, freq_filt:int):\n",
    "    plt.figure(figsize=(10,4))\n",
    "    plt.plot(X1, Y1, color='blue')\n",
    "    plt.ylabel('Амплитуда, у.е.')\n",
    "    plt.title(name)\n",
    "    plt.grid(True)\n",
    "    plt.xlim(-freq_filt,freq_filt)\n",
    "    plt.show()   \n",
    "    \n",
    "def plot2 (Y1, X1, Y2, X2):\n",
    "    \n",
    "    plt.plot(X2, Y2, color='red')\n",
    "    plt.plot(X1, Y1, color='blue')\n",
    "    plt.legend()\n",
    "    plt.grid(True)\n",
    "    plt.show()\n",
    "\n",
    "def corr_t(data1, data2):\n",
    "    mn=min([len(data1), len(data2)])\n",
    "    data1 = data1[0:mn]\n",
    "    data2 = data2[0:mn]\n",
    "    data1_f = ifft(data1)\n",
    "    data2_f = ifft(data2)\n",
    "    return np.fft.fftshift(fft(data1_f*np.conj(data2_f)))\n",
    "\n",
    "def corr_f(data1, data2, f1):\n",
    "    mn = min(len(data1), len(data2))\n",
    "    data1_f = ifft(data1)\n",
    "    data2_f = ifft(data2)\n",
    "    s1 = np.zeros(mn)\n",
    "    s2 = np.zeros(mn)\n",
    "    f = fftfreq(mn, 1 / sample_rate)\n",
    "\n",
    "    for i in range (0, mn):\n",
    "        if f[i] > -f1:\n",
    "            if f[i] < f1:\n",
    "                s1[i] = data1_f[i]\n",
    "                s2[i] = data2_f[i]\n",
    "\n",
    "    fft_abs_s1 = fft((np.abs(s1))**2)\n",
    "    fft_abs_s2 = fft((np.abs(s2))**2)\n",
    "    \n",
    "    corr_f = ifft((fft_abs_s1)*np.conj(fft_abs_s2))\n",
    "    return corr_f\n",
    "\n",
    "\n",
    "def count_time(first, df):\n",
    "    cf_time = '15:26:16'\n",
    "    cd_time = str(df.loc[first, 'Start time'])\n",
    "    dur_time = str((df.loc[first, 'Duration']))\n",
    "    c_time_dt = datetime.strptime(cf_time, \"%H:%M:%S\")\n",
    "    x_time_dt = datetime.strptime(cd_time, \"%H:%M:%S\")\n",
    "    duration = datetime.strptime(dur_time, \"%H:%M:%S\")\n",
    "\n",
    "    # print(type(x_time_dt))\n",
    "    delta = (x_time_dt -  c_time_dt).seconds%86400\n",
    "    time_b_1 = delta\n",
    "    duration_sec = duration.hour*3600 + duration.minute*60 + duration.second\n",
    "    print(duration_sec)\n",
    "    time_b_2 = delta + duration_sec\n",
    "    return time_b_1, time_b_2, duration_sec\n",
    "\n",
    "\n",
    "def cr_arr_t(first):\n",
    "    t1_beg, t1_end, duration = count_time(first, df)\n",
    "    t_int1 = (t > t1_beg) & (t <= t1_end)\n",
    "    t1 = t[t_int1]\n",
    "    f1 = fftfreq(int(len(t1)), 1 / sample_rate) # Массив частот\n",
    "    \n",
    "    array = [t_int1, t1, f1, duration]\n",
    "    return array\n",
    "\n",
    "\n",
    "def norm_max (data):\n",
    "    return data/max(data)\n",
    "\n",
    "\n",
    "def load_mat(data_1_str: str):\n",
    "    dataset = loadmat(data_1_str)\n",
    "    dat = [[element for element in upperElement] for upperElement in dataset['dataa']]\n",
    "    data=[]\n",
    "    \n",
    "    for i in range (0,len(dat[0])):\n",
    "        data.append(dat[0][i])\n",
    "\n",
    "    if len(dat[0])%2==1:\n",
    "        data=data[:len(dat[0])-1]\n",
    "\n",
    "    return data\n",
    "\n",
    "\n",
    "def first_second_part(data):\n",
    "    data_first = []\n",
    "    data_second = []\n",
    "    for i in range(0,int(len(data)/2)):\n",
    "        data_first.append(data[i])\n",
    "    \n",
    "    for i in range(int(len(data)/2),int(len(data))):\n",
    "        data_second.append(data[i])\n",
    "\n",
    "    return data_first, data_second\n",
    "\n",
    "\n",
    "def S_N_f (data1, data2):\n",
    "    \n",
    "    mn = min(len(data1), len(data2))\n",
    "    data1 = data1[:mn]\n",
    "    data2 = data2[:mn]\n",
    "    data1 = np.abs(ifft(data1))\n",
    "    data2 = np.abs(ifft(data2))\n",
    "\n",
    "    data12 = np.sum(data1*data2)\n",
    "    norm1 = np.sum(data1**2)\n",
    "    norm2 = np.sum(data2**2)\n",
    "    data_norm12 = np.sqrt(norm1)*np.sqrt(norm2)\n",
    "    if data_norm12 == 0 :\n",
    "        print('На ноль не делим')\n",
    "    SN = data12/data_norm12\n",
    "    return SN\n",
    "\n",
    "\n",
    "def t_central(t, sample_rate):\n",
    "    t_c = t - len(t)/sample_rate/2\n",
    "    return t_c\n",
    "\n",
    "\n",
    "def t_arr_for_corr_t(data):\n",
    "    l = len(data)\n",
    "    t = np.arange(l)/sample_rate\n",
    "    t = t_central(t, sample_rate)\n",
    "    return t\n",
    "\n",
    "t = np.arange(int(len(audio_data49_3)))/sample_rate # Массив времен"
   ]
  },
  {
   "cell_type": "code",
   "execution_count": 52,
   "metadata": {},
   "outputs": [
    {
     "name": "stdout",
     "output_type": "stream",
     "text": [
      "5\n",
      "720\n"
     ]
    }
   ],
   "source": [
    "# Создание массивов, используемых в обработке\n",
    "t_f_arr_1 = cr_arr_t(44)\n",
    "t_f_arr_2 = cr_arr_t(47)\n",
    "audio_data49_3_1 = audio_data49_3[t_f_arr_1[0]]\n",
    "audio_data49_3_2 = audio_data49_3[t_f_arr_2[0]]\n",
    "audio_data49_2_1 = audio_data49_2[t_f_arr_1[0]]\n",
    "\n",
    "min_len_1 = min(len(audio_data49_3_1),len(audio_data49_2_1))"
   ]
  },
  {
   "cell_type": "code",
   "execution_count": null,
   "metadata": {},
   "outputs": [],
   "source": [
    "# Графики исследований\n",
    "plt.plot(t_f_arr_1[1], audio_data49_3_1, color='brown', label='Small')\n",
    "plt.show()\n",
    "\n",
    "plt.plot(t_f_arr_1[1], audio_data49_2_1, color='blue', label='Small')\n",
    "plt.show()"
   ]
  },
  {
   "cell_type": "code",
   "execution_count": null,
   "metadata": {},
   "outputs": [],
   "source": [
    "plt.plot(t_f_arr_1[2], np.abs(ifft(audio_data49_3_1)))\n",
    "plt.title('Портрет DJI MATRICE 300 RTK')\n",
    "plt.grid(True)\n",
    "plt.xlim(-600, 600)\n",
    "plt.legend()\n",
    "plt.show"
   ]
  },
  {
   "cell_type": "code",
   "execution_count": null,
   "metadata": {},
   "outputs": [],
   "source": [
    "corr_t_2_micr = corr_t(audio_data49_2_1, audio_data49_3_1)\n",
    "t_c = t_arr_for_corr_t(corr_t_2_micr)\n",
    "plt.plot(t_c, np.abs(corr_t_2_micr))\n",
    "plt.grid(True)\n",
    "plt.title('Временная корреляция с 2 микрофонов, при пролете около них')\n",
    "plt.legend()\n",
    "plt.show"
   ]
  },
  {
   "cell_type": "code",
   "execution_count": 54,
   "metadata": {},
   "outputs": [],
   "source": [
    "S_N_arr = []\n",
    "for i in range (0, int(t_f_arr_2[3])):\n",
    "    i_beg = int(i*44100)\n",
    "    i_fin = int((i+1)*44100)\n",
    "    audiodata2_sec = audio_data49_3_2[i_beg:i_fin]\n",
    "    a = S_N_f(audio_data49_3_1, audiodata2_sec)\n",
    "    S_N_arr.append(a)\n",
    "    \n"
   ]
  },
  {
   "cell_type": "code",
   "execution_count": 41,
   "metadata": {},
   "outputs": [
    {
     "data": {
      "text/plain": [
       "0.3955814529114433"
      ]
     },
     "execution_count": 41,
     "metadata": {},
     "output_type": "execute_result"
    }
   ],
   "source": [
    "S_N_f(audio_data49_3_1, audio_data49_3_2)"
   ]
  },
  {
   "cell_type": "code",
   "execution_count": 55,
   "metadata": {},
   "outputs": [
    {
     "name": "stderr",
     "output_type": "stream",
     "text": [
      "No artists with labels found to put in legend.  Note that artists whose label start with an underscore are ignored when legend() is called with no argument.\n"
     ]
    },
    {
     "data": {
      "text/plain": [
       "<function matplotlib.pyplot.show(close=None, block=None)>"
      ]
     },
     "execution_count": 55,
     "metadata": {},
     "output_type": "execute_result"
    },
    {
     "data": {
      "image/png": "[encoded data removed]",
      "text/plain": [
       "<Figure size 640x480 with 1 Axes>"
      ]
     },
     "metadata": {},
     "output_type": "display_data"
    }
   ],
   "source": [
    "n = np.arange(int(len(t_f_arr_2[1])/sample_rate))\n",
    "plt.plot(n, S_N_arr)\n",
    "plt.title('Зависимость схожести от шага в 1 секунду')\n",
    "plt.grid(True)\n",
    "plt.legend()\n",
    "plt.show\n",
    "plt.show"
   ]
  },
  {
   "cell_type": "code",
   "execution_count": null,
   "metadata": {},
   "outputs": [],
   "source": [
    "data1_0db = load_mat('/Users/bogda/Documents/NFS/ Научка/Исходные данные/Matlab_Files/2023.03.31-11.59.31_channel_0.mat')\n",
    "data1_70db = load_mat('/Users/bogda/Documents/NFS/ Научка/Исходные данные/Matlab_Files/2023.03.31-11.52.03_channel_0.mat')\n",
    "Fs = 48000\n",
    "data_first, data_second = first_second_part(data1_0db)\n",
    "mn = min(len(data_first), len(data_second))\n",
    "t = np.arange(int(mn))/Fs\n",
    "t_central = t - mn/Fs/2\n",
    "f1 = fftfreq(mn, 1 / Fs)\n",
    "f = fftfreq(min(len(data1_0db), len(data1_70db)), 1 / Fs)\n",
    "c_t_parts = corr_t(data_first, data_second)\n",
    "c_f_parts = corr_f(data_first, data_second, 1000)\n",
    "autocorr_t = corr_t(data_first, data_first)"
   ]
  },
  {
   "cell_type": "code",
   "execution_count": 50,
   "metadata": {},
   "outputs": [
    {
     "name": "stdout",
     "output_type": "stream",
     "text": [
      "0.011039562956624113\n"
     ]
    }
   ],
   "source": [
    "print(S_N_f(data1_0db, data1_70db))"
   ]
  },
  {
   "cell_type": "code",
   "execution_count": null,
   "metadata": {},
   "outputs": [],
   "source": [
    "plot1(t_central, autocorr_t, \"Автокорреляция\")\n",
    "plot1(t_central, (c_t_parts), \"Корреляция 1 и 2 половинки\")"
   ]
  },
  {
   "cell_type": "code",
   "execution_count": null,
   "metadata": {},
   "outputs": [],
   "source": [
    "plt.figure(figsize=(10,4))\n",
    "plt.plot(f1, np.abs(ifft(autocorr_t)), color='blue')\n",
    "plt.ylabel('Амплитуда, у.е.')\n",
    "plt.title('Спектр автокорреляции по t 1 половинки дрона')\n",
    "plt.grid(True)\n",
    "plt.xlim(-2000, 2000)\n",
    "plt.show()"
   ]
  },
  {
   "cell_type": "code",
   "execution_count": null,
   "metadata": {},
   "outputs": [],
   "source": [
    "plt.figure(figsize=(10,4))\n",
    "plt.plot(f1, np.abs(ifft(autocorr_t)), color='blue')\n",
    "plt.ylabel('Амплитуда, у.е.')\n",
    "plt.title('Спектр корреляции по t 1 и 2 половинок дрона')\n",
    "plt.grid(True)\n",
    "plt.xlim(-2000, 2000)\n",
    "plt.show()"
   ]
  }
 ],
 "metadata": {
  "kernelspec": {
   "display_name": "Python 3",
   "language": "python",
   "name": "python3"
  },
  "language_info": {
   "codemirror_mode": {
    "name": "ipython",
    "version": 3
   },
   "file_extension": ".py",
   "mimetype": "text/x-python",
   "name": "python",
   "nbconvert_exporter": "python",
   "pygments_lexer": "ipython3",
   "version": "3.11.8"
  }
 },
 "nbformat": 4,
 "nbformat_minor": 2
}
