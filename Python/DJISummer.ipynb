{
 "cells": [
  {
   "cell_type": "code",
   "execution_count": 16,
   "metadata": {},
   "outputs": [],
   "source": [
    "from scipy.io import loadmat\n",
    "import matplotlib.pyplot as plt\n",
    "import numpy as np\n",
    "from scipy.fft import ifft, fft, fftfreq, fftshift, ifft2, fft2\n",
    "from scipy import signal\n",
    "from scipy.io import wavfile\n",
    "import sklearn\n",
    "import plotly\n",
    "import plotly.graph_objs as go\n",
    "import plotly.express as px\n",
    "from plotly.subplots import make_subplots\n",
    "import pandas as pd\n",
    "from datetime import datetime, timedelta"
   ]
  },
  {
   "cell_type": "code",
   "execution_count": 38,
   "metadata": {},
   "outputs": [
    {
     "name": "stdout",
     "output_type": "stream",
     "text": [
      "Частота дискретизации: 44100 Гц\n",
      "Форма массива данных: (189858816,)\n",
      "[0 0 0 ... 0 0 0]\n"
     ]
    }
   ],
   "source": [
    "# Загрузка экспериментальных данных и используемые методы\n",
    "sample_rate, audio_data = wavfile.read('/Users/bogda/Documents/NFS/ Научка/Исходные данные/ExpSummer2024/TASCAM_Files/TASCAM_0049S3.wav')\n",
    "df = pd.read_excel('/Users/bogda/Desktop/Acoustics/Scientific/Таблицы Данных/Conducting an experiment 30_08.xlsx')\n",
    "\n",
    "print(f\"Частота дискретизации: {sample_rate} Гц\")\n",
    "print(f\"Форма массива данных: {audio_data.shape}\")\n",
    "print(audio_data)\n",
    "\n",
    "def plot1 (X1, Y1, name):\n",
    "    plt.figure(figsize=(10,4))\n",
    "    plt.plot(X1, Y1, color='blue')\n",
    "    plt.ylabel('Амплитуда, у.е.')\n",
    "    plt.title(name)\n",
    "    plt.grid(True)\n",
    "    plt.show()\n",
    "    \n",
    "def plot1_f (X1, Y1, name, freq_filt:int):\n",
    "    plt.figure(figsize=(10,4))\n",
    "    plt.plot(X1, Y1, color='blue')\n",
    "    plt.ylabel('Амплитуда, у.е.')\n",
    "    plt.title(name)\n",
    "    plt.grid(True)\n",
    "    plt.xlim(-freq_filt,freq_filt)\n",
    "    plt.show()   \n",
    "    \n",
    "def plot2 (Y1, X1, Y2, X2):\n",
    "    \n",
    "    plt.plot(X2, Y2, color='red')\n",
    "    plt.plot(X1, Y1, color='blue')\n",
    "    plt.legend()\n",
    "    plt.grid(True)\n",
    "    plt.show()\n",
    "\n",
    "def corr_t(data1, data2):\n",
    "    mn=min([len(data1), len(data2)])\n",
    "    data1 = data1[0:mn]\n",
    "    data2 = data2[0:mn]\n",
    "    data1_f = ifft(data1)\n",
    "    data2_f = ifft(data2)\n",
    "    return np.fft.fftshift(fft(data1_f*np.conj(data2_f)))\n",
    "\n",
    "def corr_f(data1, data2, f1):\n",
    "    mn = min(len(data1), len(data2))\n",
    "    data1_f = ifft(data1)\n",
    "    data2_f = ifft(data2)\n",
    "    s1 = np.zeros(mn)\n",
    "    s2 = np.zeros(mn)\n",
    "    f = fftfreq(mn, 1 / sample_rate)\n",
    "\n",
    "    for i in range (0, mn):\n",
    "        if f[i] > -f1:\n",
    "            if f[i] < f1:\n",
    "                s1[i] = data1_f[i]\n",
    "                s2[i] = data2_f[i]\n",
    "\n",
    "    fft_abs_s1 = fft((np.abs(s1))**2)\n",
    "    fft_abs_s2 = fft((np.abs(s2))**2)\n",
    "    \n",
    "    corr_f = ifft((fft_abs_s1)*np.conj(fft_abs_s2))\n",
    "    return corr_f\n",
    "\n",
    "\n",
    "def count_time(first, df):\n",
    "    cf_time = '15:26:16'\n",
    "    cd_time = str(df.loc[first, 'Start time'])\n",
    "    dur_time = str((df.loc[first, 'Duration']))\n",
    "    print(dur_time)\n",
    "    c_time_dt = datetime.strptime(cf_time, \"%H:%M:%S\")\n",
    "    x_time_dt = datetime.strptime(cd_time, \"%H:%M:%S\")\n",
    "    duration = datetime.strptime(dur_time, \"%H:%M:%S\")\n",
    "    # print(type(duration))\n",
    "    # print(type(x_time_dt))\n",
    "    delta = (x_time_dt -  c_time_dt).seconds%86400\n",
    "    time_b_1 = delta\n",
    "    print(duration.second)\n",
    "    time_b_2 = delta + duration.second\n",
    "    return time_b_1, time_b_2\n",
    "\n",
    "\n",
    "def cr_arr_t(first, second):\n",
    "    t1_beg, t1_end = count_time(first, df)\n",
    "    t2_beg, t2_end = count_time(second, df)\n",
    "\n",
    "    t_int1 = (t > t1_beg) & (t < t1_end)\n",
    "    t_int2 = (t > t2_beg) & (t < t2_end)\n",
    "\n",
    "    t1 = t[t_int1]\n",
    "    t2 = t[t_int2]\n",
    "\n",
    "    f1 = fftfreq(int(min(len(t1), len(t2))), 1 / sample_rate) # Массив частот\n",
    "    f2 = fftfreq(int(min(len(t1), len(t2))), 1 / sample_rate) # Массив частот\n",
    "    array = [t_int1, t_int2, t1, t2, f1, f2]\n",
    "    return array\n",
    "\n",
    "def norm_max (data):\n",
    "    return data/max(data)\n",
    "\n",
    "def load_mat(data_1_str: str):\n",
    "    dataset = loadmat(data_1_str)\n",
    "    dat = [[element for element in upperElement] for upperElement in dataset['dataa']]\n",
    "    data=[]\n",
    "    \n",
    "    for i in range (0,len(dat[0])):\n",
    "        data.append(dat[0][i])\n",
    "\n",
    "    if len(dat[0])%2==1:\n",
    "        data=data[:len(dat[0])-1]\n",
    "\n",
    "    return data\n",
    "\n",
    "def first_second_part(data):\n",
    "    data_first = []\n",
    "    data_second = []\n",
    "    for i in range(0,int(len(data)/2)):\n",
    "        data_first.append(data[i])\n",
    "    \n",
    "    for i in range(int(len(data)/2),int(len(data))):\n",
    "        data_second.append(data[i])\n",
    "\n",
    "    return data_first, data_second\n",
    "\n",
    "def S_N_f (data1, data2):\n",
    "    mn = min(len(data1), len(data2))\n",
    "    data1 = data1[:mn]\n",
    "    data2 = data2[:mn]\n",
    "    data1 = np.abs(ifft(data1))\n",
    "    data2 = np.abs(ifft(data2))\n",
    "\n",
    "    data12 = np.sum(data1*data2)\n",
    "    norm1 = np.sum(data1**2)\n",
    "    norm2 = np.sum(data2**2)\n",
    "    data_norm12 = np.sqrt(norm1)*np.sqrt(norm2)\n",
    "    if data_norm12 == 0 :\n",
    "        print('На ноль не делим')\n",
    "    SN = data12/data_norm12\n",
    "    return SN\n",
    "\n",
    "t = np.arange(int(len(audio_data)))/sample_rate # Массив времен\n"
   ]
  },
  {
   "cell_type": "code",
   "execution_count": 39,
   "metadata": {},
   "outputs": [
    {
     "name": "stdout",
     "output_type": "stream",
     "text": [
      "00:00:04\n",
      "4\n",
      "00:00:04\n",
      "4\n"
     ]
    }
   ],
   "source": [
    "# Создание массивов, используемых в обработке\n",
    "t_f_arr_1 = cr_arr_t(46, 46)\n",
    "audio_data1_f1 = audio_data[t_f_arr_1[0]]\n",
    "audio_data2_f1 = audio_data[t_f_arr_1[1]]"
   ]
  },
  {
   "cell_type": "code",
   "execution_count": 59,
   "metadata": {},
   "outputs": [],
   "source": [
    "# Создание массивов, используемых в обработке\n",
    "t_f_arr_2 = cr_arr_t(44, 45)\n",
    "audio_data1_f2 = audio_data[t_f_arr_2[0]]\n",
    "audio_data1_f2 = norm_max(audio_data1_f2)\n",
    "audio_data2_f2 = audio_data[t_f_arr_2[1]]\n",
    "audio_data2_f2 = norm_max(audio_data2_f2)\n"
   ]
  },
  {
   "cell_type": "code",
   "execution_count": 40,
   "metadata": {},
   "outputs": [
    {
     "data": {
      "image/png": "[encoded data removed]",
      "text/plain": [
       "<Figure size 640x480 with 1 Axes>"
      ]
     },
     "metadata": {},
     "output_type": "display_data"
    },
    {
     "data": {
      "image/png": "[encoded data removed]",
      "text/plain": [
       "<Figure size 640x480 with 1 Axes>"
      ]
     },
     "metadata": {},
     "output_type": "display_data"
    }
   ],
   "source": [
    "# Графики исследований\n",
    "plt.plot(t_f_arr_1[2], audio_data1_f1, color='red', label='Small')\n",
    "plt.show()\n",
    "\n",
    "plt.plot(t_f_arr_1[3], audio_data2_f1, color='blue', label='Small')\n",
    "plt.show()"
   ]
  },
  {
   "cell_type": "code",
   "execution_count": null,
   "metadata": {},
   "outputs": [],
   "source": [
    "# Графики исследований\n",
    "plt.plot(t_f_arr_2[2], audio_data1_f2, color='red', label='Small')\n",
    "plt.show()\n",
    "\n",
    "plt.plot(t_f_arr_2[3], audio_data2_f2, color='blue', label='Small')\n",
    "plt.show()"
   ]
  },
  {
   "cell_type": "code",
   "execution_count": null,
   "metadata": {},
   "outputs": [],
   "source": [
    "plt.plot(t_f_arr_1[4], corr_f(audio_data1_f1, audio_data2_f1, 750), color='red')\n",
    "plt.xlim(-1000, 1000)\n",
    "plt.show()\n",
    "\n",
    "plt.plot(t_f_arr_2[5], corr_f(audio_data1_f2, audio_data2_f2, 750), color='blue')\n",
    "plt.xlim(-1000, 1000)\n",
    "plt.show()"
   ]
  },
  {
   "cell_type": "code",
   "execution_count": null,
   "metadata": {},
   "outputs": [],
   "source": [
    "plot1 (t_f_arr_2[2], corr_t(audio_data1_f2, audio_data2_f2), 'Rare')"
   ]
  },
  {
   "cell_type": "code",
   "execution_count": 14,
   "metadata": {},
   "outputs": [
    {
     "name": "stderr",
     "output_type": "stream",
     "text": [
      "/var/folders/lf/x86pzptd3pv7z45l56wggyjc0000gn/T/ipykernel_3638/597677783.py:53: ComplexWarning: Casting complex values to real discards the imaginary part\n",
      "  s1[i] = data1_f[i]\n",
      "/var/folders/lf/x86pzptd3pv7z45l56wggyjc0000gn/T/ipykernel_3638/597677783.py:54: ComplexWarning: Casting complex values to real discards the imaginary part\n",
      "  s2[i] = data2_f[i]\n"
     ]
    }
   ],
   "source": [
    "data1_0db = load_mat('/Users/bogda/Documents/NFS/ Научка/Исходные данные/Matlab_Files/2023.03.31-11.59.31_channel_0.mat')\n",
    "data1_70db = load_mat('/Users/bogda/Documents/NFS/ Научка/Исходные данные/Matlab_Files/2023.03.31-11.52.03_channel_0.mat')\n",
    "Fs = 48000\n",
    "data_first, data_second = first_second_part(data1_0db)\n",
    "mn = min(len(data_first), len(data_second))\n",
    "t = np.arange(int(mn))/Fs\n",
    "t_central = t - mn/Fs/2\n",
    "f1 = fftfreq(mn, 1 / Fs)\n",
    "f = fftfreq(min(len(data1_0db), len(data1_70db)), 1 / Fs)\n",
    "c_t_parts = corr_t(data_first, data_second)\n",
    "c_f_parts = corr_f(data_first, data_second, 1000)\n",
    "autocorr_t = corr_t(data_first, data_first)"
   ]
  },
  {
   "cell_type": "code",
   "execution_count": null,
   "metadata": {},
   "outputs": [],
   "source": [
    "plot1(t_central, autocorr_t, \"Автокорреляция\")\n",
    "plot1(t_central, (c_t_parts), \"Корреляция 1 и 2 половинки\")"
   ]
  },
  {
   "cell_type": "code",
   "execution_count": null,
   "metadata": {},
   "outputs": [],
   "source": [
    "plt.figure(figsize=(10,4))\n",
    "plt.plot(f1, np.abs(ifft(autocorr_t)), color='blue')\n",
    "plt.ylabel('Амплитуда, у.е.')\n",
    "plt.title('Спектр автокорреляции по t 1 половинки дрона')\n",
    "plt.grid(True)\n",
    "plt.xlim(-2000, 2000)\n",
    "plt.show()"
   ]
  },
  {
   "cell_type": "code",
   "execution_count": null,
   "metadata": {},
   "outputs": [],
   "source": [
    "plt.figure(figsize=(10,4))\n",
    "plt.plot(f1, np.abs(ifft(autocorr_t)), color='blue')\n",
    "plt.ylabel('Амплитуда, у.е.')\n",
    "plt.title('Спектр корреляции по t 1 и 2 половинок дрона')\n",
    "plt.grid(True)\n",
    "plt.xlim(-2000, 2000)\n",
    "plt.show()"
   ]
  }
 ],
 "metadata": {
  "kernelspec": {
   "display_name": "Python 3",
   "language": "python",
   "name": "python3"
  },
  "language_info": {
   "codemirror_mode": {
    "name": "ipython",
    "version": 3
   },
   "file_extension": ".py",
   "mimetype": "text/x-python",
   "name": "python",
   "nbconvert_exporter": "python",
   "pygments_lexer": "ipython3",
   "version": "3.11.8"
  }
 },
 "nbformat": 4,
 "nbformat_minor": 2
}
