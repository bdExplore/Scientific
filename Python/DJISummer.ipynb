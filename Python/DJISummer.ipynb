{
 "cells": [
  {
   "cell_type": "code",
   "execution_count": null,
   "metadata": {},
   "outputs": [],
   "source": [
    "from scipy.io import loadmat\n",
    "import matplotlib.pyplot as plt\n",
    "import numpy as np\n",
    "from scipy.fft import ifft, fft, fftfreq, fftshift, ifft2, fft2\n",
    "from scipy import signal\n",
    "from scipy.io import wavfile\n",
    "import plotly\n",
    "import plotly.graph_objs as go\n",
    "import plotly.express as px\n",
    "from plotly.subplots import make_subplots\n",
    "import pandas as pd\n",
    "from datetime import datetime, timedelta\n",
    "from audio_function import plot1, plot1_f, mean_data_sep, mean_autocorr_signal, corr_t, corr_f, count_time, cos_sim, cr_arr_t, norm_max, load_mat, first_second_part, filt_freq, variation_data, t_arr_for_corr_t, df, audio_data49_3, audio_data49_2, audio_data16_3, audio_data16_2, sample_rate, audio_data49_1"
   ]
  },
  {
   "cell_type": "code",
   "execution_count": null,
   "metadata": {},
   "outputs": [],
   "source": [
    "# Создание массивов, используемых в обработке\n",
    "t_f_arr_1 = cr_arr_t(49)\n",
    "t_f_arr_2 = cr_arr_t(47)\n",
    "t_f_arr_3 = cr_arr_t(58)\n",
    "\n",
    "audio_data49_3_1 = audio_data49_3[t_f_arr_1[0]]\n",
    "audio_data49_3_2 = audio_data49_3[t_f_arr_2[0]]\n",
    "audio_data49_3_3 = audio_data49_3[t_f_arr_3[0]]\n",
    "\n",
    "audio_data49_2_1 = audio_data49_2[t_f_arr_1[0]]\n",
    "audio_data49_2_2 = audio_data49_2[t_f_arr_2[0]]\n",
    "audio_data49_2_3 = audio_data49_3[t_f_arr_3[0]]\n",
    "\n",
    "audio_data49_1_1 = audio_data49_1[t_f_arr_1[0]]\n",
    "audio_data49_1_2 = audio_data49_1[t_f_arr_2[0]]\n",
    "audio_data49_1_3 = audio_data49_1[t_f_arr_3[0]]\n",
    "\n",
    "audio_data16_1_1 = audio_data16_2[t_f_arr_1[0]]\n",
    "audio_data16_1_2 = audio_data16_2[t_f_arr_2[0]]\n",
    "audio_data16_1_3 = audio_data16_2[t_f_arr_3[0]]\n",
    "\n",
    "min_len_1 = min(len(audio_data49_3_1),len(audio_data49_2_1))"
   ]
  },
  {
   "cell_type": "code",
   "execution_count": null,
   "metadata": {},
   "outputs": [],
   "source": [
    "cross_corr_1 = corr_t(audio_data49_2_1, audio_data49_3_1, 0, 250)\n",
    "t_cross1 = t_arr_for_corr_t(cross_corr_1)\n",
    "plt.figure(figsize=(10,4))\n",
    "plt.plot(t_cross1, cross_corr_1, color='blue')\n",
    "plt.xlim(-0.1, 0.1)\n",
    "plt.grid(True)\n",
    "plt.show()"
   ]
  },
  {
   "cell_type": "code",
   "execution_count": null,
   "metadata": {},
   "outputs": [],
   "source": [
    "cross_corr_2 = corr_t(audio_data49_2_2, audio_data49_3_2, 0, 250)\n",
    "t_cross_2 = t_arr_for_corr_t(cross_corr_2)\n",
    "plt.figure(figsize=(10,4))\n",
    "plt.plot(t_cross_2 , cross_corr_2, color='blue')\n",
    "plt.xlim(-0.1, 0.1)\n",
    "plt.grid(True)\n",
    "plt.show()"
   ]
  },
  {
   "cell_type": "code",
   "execution_count": null,
   "metadata": {},
   "outputs": [],
   "source": [
    "cross_corr_3 = corr_t(audio_data49_2_3, audio_data49_3_3, 15, 250)\n",
    "t_cross_3 = t_arr_for_corr_t(cross_corr_3)\n",
    "plt.figure(figsize=(10,4))\n",
    "plt.plot(t_cross_3 , cross_corr_3, color='blue')\n",
    "\n",
    "plt.grid(True)\n",
    "plt.show()"
   ]
  },
  {
   "cell_type": "code",
   "execution_count": null,
   "metadata": {},
   "outputs": [],
   "source": [
    "S_N_arr_2 = []\n",
    "audio_data49_3_1_mean = mean_data_sep(audio_data49_3_1, 0.1)\n",
    "array_audiodata_2 = []\n",
    "for i in range (0, int(t_f_arr_2[3])):\n",
    "    i_beg = int(i*44100)\n",
    "    i_fin = int((i+1)*44100)\n",
    "    audiodata2_sec = audio_data49_3_2[i_beg:i_fin]\n",
    "\n",
    "    audiodata2_sec_mean = mean_data_sep(audiodata2_sec, 0.1)\n",
    "    array_audiodata_2.append(audiodata2_sec_mean)\n",
    "    \n",
    "    a = cos_sim(audio_data49_3_1_mean, audiodata2_sec_mean, 60, 250)\n",
    "    S_N_arr_2.append(a)\n",
    "    \n",
    "n2 = np.arange(int(t_f_arr_2[3]))\n",
    "\n",
    "plt.plot(n2, S_N_arr_2)\n",
    "plt.title('Зависимость схожести от шага в 1 секунду с усреднением')\n",
    "plt.grid(True)\n",
    "plt.legend()\n",
    "plt.show()"
   ]
  },
  {
   "cell_type": "code",
   "execution_count": null,
   "metadata": {},
   "outputs": [],
   "source": [
    "a = np.array([0, 1, 2, 3, 4])\n",
    "b = np.array([0, 0, 0, 0, 1])\n",
    "\n",
    "norm1 = np.sum((np.abs(a))**2)\n",
    "norm2 = np.sum((np.abs(b))**2)\n",
    "\n",
    "data12 = np.sum(a*b)\n",
    "data_norm12 = np.sqrt(norm1) * np.sqrt(norm2)\n",
    "SN = data12/data_norm12\n",
    "print(SN)"
   ]
  },
  {
   "cell_type": "code",
   "execution_count": null,
   "metadata": {},
   "outputs": [],
   "source": [
    "audio_data49_3_1_mean = mean_data_sep(audio_data49_3_1, 0.1)\n",
    "f = fftfreq(int(len(audio_data49_3_1_mean)), 1 / sample_rate)\n",
    "plot1_f(f, audio_data49_3_1_mean, 'Спектр после', 250, 'f, Гц')"
   ]
  },
  {
   "cell_type": "code",
   "execution_count": null,
   "metadata": {},
   "outputs": [],
   "source": [
    "audio_data49_3_1_mean = mean_data_sep(audio_data49_3_1, 0.1)\n",
    "data1 = filt_freq(audio_data49_3_1_mean, 60, 250)\n",
    "\n",
    "f = fftfreq(int(len(data1 )), 1 / sample_rate)\n",
    "plot1_f(f, data1, 'Спектр после', 300, 'f, Гц')\n",
    "\n",
    "i = 45\n",
    "i_beg = int(i*44100)\n",
    "i_fin = int((i+1)*44100)\n",
    "audiodata2_sec = audio_data49_3_2[i_beg:i_fin]\n",
    "\n",
    "audiodata2_sec_mean = mean_data_sep(audiodata2_sec, 0.1)\n",
    "\n",
    "data2  = filt_freq(audiodata2_sec_mean , 60, 250)\n",
    "\n",
    "plot1_f(f, data2 , 'Спектр после', 300, 'f, Гц')\n",
    "\n",
    "# array_audiodata_2.append(audiodata2_sec_mean)\n",
    "    \n",
    "a = cos_sim(audio_data49_3_1_mean, audiodata2_sec_mean, 20, 250)\n",
    "# S_N_arr_2.append(a)\n",
    "    \n",
    "data12 = np.sum(data1*data2)\n",
    "norm1 = np.sum((np.abs(data1))**2)\n",
    "norm2 = np.sum((np.abs(data2))**2)\n",
    "data_norm12 = np.sqrt(norm1) * np.sqrt(norm2)\n",
    "SN = data12/data_norm12\n",
    "\n",
    "print(data12, norm1, norm2, a, SN)"
   ]
  },
  {
   "cell_type": "code",
   "execution_count": null,
   "metadata": {},
   "outputs": [],
   "source": [
    "data1 = filt_freq(audio_data49_3_1_mean, 60, 250)\n",
    "plot1_f(f, data1, 'Спектр после', 300, 'f, Гц')\n",
    "\n",
    "i = 32\n",
    "i_beg = int(i*44100)\n",
    "i_fin = int((i+1)*44100)\n",
    "audiodata2_sec = audio_data49_3_2[i_beg:i_fin]\n",
    "\n",
    "audiodata2_sec_mean = mean_data_sep(audiodata2_sec, 0.1)\n",
    "data2  = filt_freq(audiodata2_sec_mean , 60, 250)\n",
    "plot1_f(f, data2, 'Спектр после', 300, 'f, Гц')\n",
    "\n",
    "# array_audiodata_2.append(audiodata2_sec_mean)\n",
    "    \n",
    "a = cos_sim(data1, data2, 60, 250)\n",
    "# S_N_arr_2.append(a)\n",
    "    \n",
    "data12 = np.sum(data1*data2)\n",
    "norm1 = np.sum((np.abs(data1))**2)\n",
    "norm2 = np.sum((np.abs(data2))**2)\n",
    "data_norm12 = np.sqrt(norm1) * np.sqrt(norm2)\n",
    "SN = data12/data_norm12\n",
    "\n",
    "print(data12, norm1, norm2, a, SN)"
   ]
  },
  {
   "cell_type": "code",
   "execution_count": null,
   "metadata": {},
   "outputs": [],
   "source": [
    "data1 = filt_freq(audio_data49_3_1_mean, 60, 250)\n",
    "plot1_f(f, data1, 'Спектр после', 300, 'f, Гц')\n",
    "\n",
    "i = 32\n",
    "i_beg = int(i*44100)\n",
    "i_fin = int((i+1)*44100)\n",
    "audiodata2_sec = audio_data49_3_2[i_beg:i_fin]\n",
    "\n",
    "audiodata2_sec_mean = mean_data_sep(audiodata2_sec, 0.1)\n",
    "data2  = filt_freq(audiodata2_sec_mean, 60, 250)\n",
    "plot1_f(f, data2, 'Спектр после', 300, 'f, Гц')\n",
    "\n",
    "# array_audiodata_2.append(audiodata2_sec_mean)\n",
    "    \n",
    "a = cos_sim(audio_data49_3_1_mean, audiodata2_sec_mean, 60, 250)\n",
    "# S_N_arr_2.append(a)\n",
    "    \n",
    "data12 = np.sum(data1*data2)\n",
    "norm1 = np.sum((np.abs(data1))**2)\n",
    "norm2 = np.sum((np.abs(data2))**2)\n",
    "print(data12, norm1, norm2, a)"
   ]
  },
  {
   "cell_type": "code",
   "execution_count": null,
   "metadata": {},
   "outputs": [],
   "source": [
    "max_autocorr_signal = []\n",
    "\n",
    "for i in range (0, int(t_f_arr_2[3])):\n",
    "    i_beg = int(i*44100)\n",
    "    i_fin = int((i+1)*44100)\n",
    "    audiodata2_sec = audio_data49_3_2[i_beg:i_fin]\n",
    "    audiodata2_sec_mean = mean_data_sep(audiodata2_sec, 0.2)\n",
    "    audio_data49_3_1_mean = mean_data_sep(audio_data49_3_1, 0.2)\n",
    "    \n",
    "    b = (mean_autocorr_signal(audio_data49_3_1_mean, audiodata2_sec_mean, 0, 250))\n",
    "    max_autocorr_signal.append(b)\n",
    "\n",
    "l = len(max_autocorr_signal)\n",
    "N_max = np.arange(l)\n",
    "plt.plot(N_max, max_autocorr_signal)\n",
    "plt.grid(True)\n",
    "plt.title('Зависимоость функции (*) от N секунды')\n",
    "plt.legend()\n",
    "plt.show()"
   ]
  },
  {
   "cell_type": "code",
   "execution_count": null,
   "metadata": {},
   "outputs": [],
   "source": [
    "min_spectrum = []\n",
    "for i in range (0, int(t_f_arr_2[3])):\n",
    "    \n",
    "    i_beg = int(i*sample_rate)\n",
    "    i_fin = int((i+1)*sample_rate)\n",
    "    audiodata2_sec = audio_data49_3_2[i_beg:i_fin]\n",
    "\n",
    "    audiodata2_sec_mean = mean_data_sep(audiodata2_sec, 0.1)\n",
    "    # audio_data49_3_1_mean = mean_data_sep(audio_data49_3_1, 0.1)\n",
    "\n",
    "    c = np.mean(audiodata2_sec_mean)**2\n",
    "    min_spectrum.append(c)\n",
    "\n",
    "min_spectrum = np.array(min_spectrum)\n",
    "min_spectrum = (min_spectrum)*(min_spectrum)\n",
    "l = len(min_spectrum)\n",
    "N_max = np.arange(l)\n",
    "plt.plot(N_max, norm_max(min_spectrum))\n",
    "plt.grid(True)\n",
    "plt.title('Зависимость функции усреднения спектра от N секунды')\n",
    "plt.legend()\n",
    "plt.show()"
   ]
  },
  {
   "cell_type": "code",
   "execution_count": null,
   "metadata": {},
   "outputs": [],
   "source": [
    "spectr_port_1 = ifft(audio_data49_3_1)\n",
    "spectr_port = filt_freq(spectr_port_1, 60, 250)\n",
    "f = fftfreq(int(len(spectr_port_1)), 1 / sample_rate)\n",
    "plot1_f(f, spectr_port, 'Спектр после', 250, 'f, Гц')"
   ]
  },
  {
   "cell_type": "code",
   "execution_count": null,
   "metadata": {},
   "outputs": [],
   "source": [
    "# Графики исследований\n",
    "plt.plot(t_f_arr_1[1], audio_data49_3_1, color='brown', label='Small')\n",
    "plt.show()\n",
    "\n",
    "plt.plot(t_f_arr_1[1], audio_data49_2_1, color='blue', label='Small')\n",
    "plt.show()"
   ]
  },
  {
   "cell_type": "code",
   "execution_count": null,
   "metadata": {},
   "outputs": [],
   "source": [
    "# S_N_arr_autocorr = []\n",
    "# for i in range (0, int(t_f_arr_2[3])):\n",
    "#     i_beg = int(i*sample_rate)\n",
    "#     i_fin = int((i+1)*sample_rate)\n",
    "#     audiodata2_sec = audio_data49_3_2[i_beg:i_fin]\n",
    "#     audiodata2_sec = mean_data_sep(audiodata2_sec, 0.1)\n",
    "#     audio_data49_3_1_m = mean_data_sep(audio_data49_3_1, 0.1)\n",
    "#     a = cos_sim(audio_data49_3_1_m, audiodata2_sec, 50, 500)\n",
    "#     S_N_arr_autocorr.append(a)\n",
    "\n",
    "corr_t_2_micr = corr_t(audio_data49_3_2, audio_data49_2_2, 0, 1000)\n",
    "t_c = t_arr_for_corr_t(corr_t_2_micr)\n",
    "plt.plot(t_c, (corr_t_2_micr))\n",
    "plt.grid(True)\n",
    "plt.xlim(-2, 2)\n",
    "plt.title('Временная корреляция с 2 микрофонов, при пролете около них')\n",
    "plt.legend()\n",
    "plt.show()"
   ]
  },
  {
   "cell_type": "code",
   "execution_count": null,
   "metadata": {},
   "outputs": [],
   "source": [
    "corr_t_2_micr = corr_t(audio_data49_3_1, audio_data49_2_1, 250)\n",
    "t_c = t_arr_for_corr_t(corr_t_2_micr)\n",
    "plt.plot(t_c, (corr_t_2_micr))\n",
    "plt.grid(True)\n",
    "plt.xlim(-0.02, 0.02)\n",
    "plt.title('Временная корреляция с 2 микрофонов, при пролете около них')\n",
    "plt.legend()\n",
    "plt.show"
   ]
  },
  {
   "cell_type": "code",
   "execution_count": null,
   "metadata": {},
   "outputs": [],
   "source": [
    "data1_0db = load_mat('/Users/bogda/Desktop/Acoustics/Scientific/Исходные данные/Matlab_Files/2023.03.31-11.59.31_channel_0.mat')\n",
    "data1_70db = load_mat('/Users/bogda/Desktop/Acoustics/Scientific/Исходные данные/Matlab_Files/2023.03.31-11.52.03_channel_0.mat')\n",
    "Fs = 48000\n",
    "data_first, data_second = first_second_part(data1_0db)\n",
    "mn = min(len(data_first), len(data_second))\n",
    "t = np.arange(int(mn))/Fs\n",
    "t_central = t - mn/Fs/2\n",
    "f1 = fftfreq(mn, 1 / Fs)\n",
    "f = fftfreq(min(len(data1_0db), len(data1_70db)), 1 / Fs)\n",
    "c_t_parts = corr_t(data_first, data_second, 0, 10000)\n",
    "c_f_parts = corr_f(data_first, data_second, 0, 10000)\n",
    "autocorr_t = corr_t(data_first, data_first, 0, 10000)"
   ]
  },
  {
   "cell_type": "code",
   "execution_count": null,
   "metadata": {},
   "outputs": [],
   "source": [
    "plot1(t_central, autocorr_t, \"Автокорреляция\")\n",
    "plot1(t_central, (c_t_parts), \"Корреляция 1 и 2 половинки\")"
   ]
  },
  {
   "cell_type": "code",
   "execution_count": null,
   "metadata": {},
   "outputs": [],
   "source": [
    "plt.figure(figsize=(10,4))\n",
    "plt.plot(f1, np.abs(ifft(autocorr_t)), color='blue')\n",
    "plt.ylabel('Амплитуда, у.е.')\n",
    "plt.title('Спектр автокорреляции по t 1 половинки дрона')\n",
    "plt.grid(True)\n",
    "plt.xlim(-2000, 2000)\n",
    "plt.show()"
   ]
  },
  {
   "cell_type": "code",
   "execution_count": null,
   "metadata": {},
   "outputs": [],
   "source": [
    "plt.figure(figsize=(10,4))\n",
    "plt.plot(f1, np.abs(ifft(autocorr_t)), color='blue')\n",
    "plt.ylabel('Амплитуда, у.е.')\n",
    "plt.title('Спектр корреляции по t 1 и 2 половинок дрона')\n",
    "plt.grid(True)\n",
    "plt.xlim(-2000, 2000)\n",
    "plt.show()"
   ]
  }
 ],
 "metadata": {
  "kernelspec": {
   "display_name": "Python 3",
   "language": "python",
   "name": "python3"
  },
  "language_info": {
   "codemirror_mode": {
    "name": "ipython",
    "version": 3
   },
   "file_extension": ".py",
   "mimetype": "text/x-python",
   "name": "python",
   "nbconvert_exporter": "python",
   "pygments_lexer": "ipython3",
   "version": "3.11.8"
  }
 },
 "nbformat": 4,
 "nbformat_minor": 2
}
