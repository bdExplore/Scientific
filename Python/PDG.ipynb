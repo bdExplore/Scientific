{
 "cells": [
  {
   "cell_type": "code",
   "execution_count": null,
   "metadata": {},
   "outputs": [],
   "source": [
    "from scipy.io import loadmat\n",
    "import matplotlib.pyplot as plt\n",
    "import numpy as np\n",
    "from scipy.fft import ifft, fft, fftfreq, fftshift, ifft2, fft2\n",
    "from scipy import signal\n",
    "from scipy.io import wavfile\n",
    "import plotly\n",
    "import plotly.graph_objs as go\n",
    "import plotly.express as px\n",
    "from plotly.subplots import make_subplots\n",
    "import pandas as pd\n",
    "from datetime import datetime, timedelta\n",
    "from audio_function import plot1, plot1_f, mean_data_sep, mean_autocorr_signal, corr_t, corr_f, count_time, cos_sim, cr_arr_t, norm_max, load_mat, first_second_part, filt_freq, variation_data, t_arr_for_corr_t, df, audio_data49_3, audio_data49_2, audio_data16_3, audio_data16_2, sample_rate, audio_data49_1"
   ]
  },
  {
   "cell_type": "code",
   "execution_count": null,
   "metadata": {},
   "outputs": [],
   "source": [
    "# Создание массивов, используемых в обработке\n",
    "t_f_arr_1 = cr_arr_t(49)\n",
    "t_f_arr_2 = cr_arr_t(47)\n",
    "t_f_arr_3 = cr_arr_t(57)\n",
    "\n",
    "audio_data49_1_1 = audio_data49_1[t_f_arr_1[0]]\n",
    "audio_data49_1_2 = audio_data49_1[t_f_arr_2[0]]\n",
    "audio_data49_1_3 = audio_data49_1[t_f_arr_3[0]]\n",
    "\n",
    "# audio_data49_2_1 = audio_data49_2[t_f_arr_1[0]]\n",
    "# audio_data49_2_2 = audio_data49_2[t_f_arr_2[0]]\n",
    "# audio_data49_2_3 = audio_data49_3[t_f_arr_3[0]]\n",
    "\n",
    "audio_data49_3_1 = audio_data49_3[t_f_arr_1[0]]\n",
    "audio_data49_3_2 = audio_data49_3[t_f_arr_2[0]]\n",
    "audio_data49_3_3 = audio_data49_3[t_f_arr_3[0]]\n",
    "\n",
    "audio_data16_2_1 = audio_data16_2[t_f_arr_1[0]]\n",
    "audio_data16_2_2 = audio_data16_2[t_f_arr_2[0]]\n",
    "audio_data16_2_3 = audio_data16_2[t_f_arr_3[0]]\n",
    "\n",
    "min_len_1 = min(len(audio_data49_1_1),len(audio_data49_3_1))\n",
    "\n",
    "octave_boundaries = np.array([56, 70, 88, 111, 140, 176, 222, 280, 353, 445, 561, 707, 890])"
   ]
  },
  {
   "cell_type": "code",
   "execution_count": null,
   "metadata": {},
   "outputs": [],
   "source": [
    "audio_data49_1_1_mean = mean_data_sep(audio_data49_1_1, 0.2)\n",
    "f = fftfreq(int(len(audio_data49_1_1)), 1 / sample_rate)\n",
    "f_for_mean = fftfreq(int(len(audio_data49_1_1_mean)), 1 / sample_rate)\n",
    "plot1_f(f, np.abs(ifft(audio_data49_1_1)), 'Спектр через ПГД без усреднения', 400, 'f, Гц')\n",
    "plot1_f(f_for_mean, np.abs((audio_data49_1_1_mean)), 'Спектр через ПГД с усреднением', 400, 'f, Гц')"
   ]
  },
  {
   "cell_type": "code",
   "execution_count": null,
   "metadata": {},
   "outputs": [],
   "source": [
    "audio_data49_1_3_mean = mean_data_sep(audio_data49_1_3, 0.2)\n",
    "f = fftfreq(int(len(audio_data49_1_3)), 1 / sample_rate)\n",
    "f_for_mean = fftfreq(int(len(audio_data49_1_3_mean)), 1 / sample_rate)\n",
    "# plot1_f(f, np.abs(ifft(audio_data49_1_3)), 'Спектр через ПГД без усреднения', 1500, 'f, Гц')\n",
    "plt.figure(figsize=(10,4))\n",
    "plt.plot(f, np.abs(ifft(audio_data49_1_3)), color='blue')\n",
    "plt.xlim(0, 400)\n",
    "plt.ylim(0, 1)\n",
    "plt.grid(True)\n",
    "plt.show()\n",
    "# plot1_f(f_for_mean, np.abs((audio_data49_1_3_mean)), 'Спектр через ПГД с усреднением', 1500, 'f, Гц')\n",
    "plt.figure(figsize=(10,4))\n",
    "plt.plot(f_for_mean, np.abs((audio_data49_1_3_mean)), color='blue')\n",
    "plt.xlim(0, 400)\n",
    "plt.ylim(0, 0.1)\n",
    "plt.grid(True)\n",
    "plt.show()"
   ]
  },
  {
   "cell_type": "code",
   "execution_count": null,
   "metadata": {},
   "outputs": [],
   "source": [
    "corr_pgd_micrup = corr_t(audio_data49_1_1, audio_data49_3_1, 0, 600)\n",
    "t_corr_1 = t_arr_for_corr_t(audio_data49_3_3)\n",
    "plt.figure(figsize=(10,4))\n",
    "plt.plot(t_corr_1, corr_pgd_micrup, color='blue')\n",
    "plt.xlim(-0.2, 0.2)\n",
    "plt.grid(True)\n",
    "plt.show()"
   ]
  },
  {
   "cell_type": "code",
   "execution_count": null,
   "metadata": {},
   "outputs": [],
   "source": [
    "spectr_corr = ifft(corr_pgd_micrup)\n",
    "f_1 = fftfreq(int(len(audio_data49_1_3)), 1 / sample_rate)"
   ]
  },
  {
   "cell_type": "code",
   "execution_count": null,
   "metadata": {},
   "outputs": [],
   "source": [
    "f = fftfreq(int(len(audio_data49_1_1)), 1 / sample_rate)\n",
    "plot1_f(f, np.abs(ifft(audio_data49_1_1)), 'Спектр через ПГД', 1500, 'f, Гц')\n",
    "plot1_f(f, np.abs(ifft(audio_data49_3_1)), 'Спектр через микрофон', 1500, 'f, Гц')"
   ]
  },
  {
   "cell_type": "code",
   "execution_count": null,
   "metadata": {},
   "outputs": [],
   "source": [
    "f = fftfreq(int(len(audio_data49_1_3)), 1 / sample_rate)\n",
    "plot1_f(f, np.abs(ifft(audio_data49_1_3)), 'Спектр через ПГД', 1500, 'f, Гц')\n",
    "plot1_f(f, np.abs(ifft(audio_data16_2_3)), 'Спектр через микрофон', 1500, 'f, Гц')"
   ]
  },
  {
   "cell_type": "code",
   "execution_count": null,
   "metadata": {},
   "outputs": [],
   "source": [
    "plt.figure(figsize=(10,4))\n",
    "plt.plot(f, np.abs(ifft(audio_data49_1_1)), color='blue')\n",
    "plt.plot(f, np.abs(ifft(audio_data49_1_3)), color='red')\n",
    "plt.xlim(0, 400)\n",
    "plt.grid(True)\n",
    "plt.show()"
   ]
  }
 ],
 "metadata": {
  "kernelspec": {
   "display_name": "Python 3",
   "language": "python",
   "name": "python3"
  },
  "language_info": {
   "codemirror_mode": {
    "name": "ipython",
    "version": 3
   },
   "file_extension": ".py",
   "mimetype": "text/x-python",
   "name": "python",
   "nbconvert_exporter": "python",
   "pygments_lexer": "ipython3",
   "version": "3.11.8"
  }
 },
 "nbformat": 4,
 "nbformat_minor": 2
}
