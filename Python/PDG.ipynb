{
 "cells": [
  {
   "cell_type": "code",
   "execution_count": null,
   "metadata": {},
   "outputs": [],
   "source": [
    "# from scipy.io import loadmat\n",
    "import matplotlib.pyplot as plt\n",
    "import numpy as np\n",
    "from scipy.fft import ifft, fft, fftfreq, fftshift, ifft2, fft2\n",
    "from scipy import signal\n",
    "from scipy.io import wavfile\n",
    "import plotly\n",
    "import torch\n",
    "import plotly.graph_objs as go\n",
    "import plotly.express as px\n",
    "from plotly.subplots import make_subplots\n",
    "import pandas as pd\n",
    "from datetime import datetime, timedelta\n",
    "from audio_function import plot1, plot1_f, mean_data_sep, mean_autocorr_signal, corr_t, corr_f, count_time, cos_sim, cr_arr_t, norm_max, load_mat, first_second_part, filt_freq, variation_data, t_arr_for_corr_t\n",
    "from audio_function import df, audio_data49_3, audio_data49_2, audio_data16_3, audio_data16_2, sample_rate, audio_data49_1"
   ]
  },
  {
   "cell_type": "code",
   "execution_count": null,
   "metadata": {},
   "outputs": [],
   "source": [
    "# Создание массивов, используемых в обработке\n",
    "t_f_arr_1 = cr_arr_t(49)\n",
    "t_f_arr_2 = cr_arr_t(47)\n",
    "t_f_arr_3 = cr_arr_t(45)\n",
    "\n",
    "audio_data49_1_1 = audio_data49_1[t_f_arr_1[0]]\n",
    "audio_data49_1_2 = audio_data49_1[t_f_arr_2[0]]\n",
    "audio_data49_1_3 = audio_data49_1[t_f_arr_3[0]]\n",
    "\n",
    "audio_data49_2_1 = audio_data49_2[t_f_arr_1[0]]\n",
    "audio_data49_2_2 = audio_data49_2[t_f_arr_2[0]]\n",
    "audio_data49_2_3 = audio_data49_3[t_f_arr_3[0]]\n",
    "\n",
    "audio_data49_3_1 = audio_data49_3[t_f_arr_1[0]]\n",
    "audio_data49_3_2 = audio_data49_3[t_f_arr_2[0]]\n",
    "audio_data49_3_3 = audio_data49_3[t_f_arr_3[0]]\n",
    "\n",
    "audio_data16_2_1 = audio_data16_2[t_f_arr_1[0]]\n",
    "audio_data16_2_2 = audio_data16_2[t_f_arr_2[0]]\n",
    "audio_data16_2_3 = audio_data16_2[t_f_arr_3[0]]\n",
    "\n",
    "min_len_1 = min(len(audio_data49_1_1),len(audio_data49_3_1))\n",
    "\n",
    "octave_boundaries = np.array([56, 70, 88, 111, 140, 176, 222, 280, 353, 445, 561, 707, 890])"
   ]
  },
  {
   "cell_type": "code",
   "execution_count": null,
   "metadata": {},
   "outputs": [],
   "source": [
    "audio_data49_1_1_mean = mean_data_sep(audio_data49_1_1, 0.2)\n",
    "f = fftfreq(int(len(audio_data49_1_1)), 1 / sample_rate)\n",
    "f_for_mean = fftfreq(int(len(audio_data49_1_1_mean)), 1 / sample_rate)\n",
    "plot1_f(f, np.abs(ifft(audio_data49_1_1)), 'Спектр через ПГД без усреднения', 400, 'f, Гц')\n",
    "plot1_f(f_for_mean, np.abs((audio_data49_1_1_mean)), 'Спектр через ПГД с усреднением', 400, 'f, Гц')"
   ]
  },
  {
   "cell_type": "code",
   "execution_count": null,
   "metadata": {},
   "outputs": [],
   "source": [
    "audio_data49_1_3_mean = mean_data_sep(audio_data49_1_3, 0.2)\n",
    "f = fftfreq(int(len(audio_data49_1_3)), 1 / sample_rate)\n",
    "f_for_mean = fftfreq(int(len(audio_data49_1_3_mean)), 1 / sample_rate)\n",
    "# plot1_f(f, np.abs(ifft(audio_data49_1_3)), 'Спектр через ПГД без усреднения', 1500, 'f, Гц')\n",
    "plt.figure(figsize=(10,4))\n",
    "plt.plot(f, np.abs(ifft(audio_data49_1_3)), color='blue')\n",
    "plt.xlim(0, 400)\n",
    "plt.ylim(0, 1)\n",
    "plt.grid(True)\n",
    "plt.show()\n",
    "# plot1_f(f_for_mean, np.abs((audio_data49_1_3_mean)), 'Спектр через ПГД с усреднением', 1500, 'f, Гц')\n",
    "plt.figure(figsize=(10,4))\n",
    "plt.plot(f_for_mean, np.abs((audio_data49_1_3_mean)), color='blue')\n",
    "plt.xlim(0, 400)\n",
    "plt.ylim(0, 0.1)\n",
    "plt.grid(True)\n",
    "plt.show()"
   ]
  },
  {
   "cell_type": "code",
   "execution_count": null,
   "metadata": {},
   "outputs": [],
   "source": [
    "corr_pgd_micrup = corr_t(audio_data49_1_1, audio_data49_3_1, 0, 600)\n",
    "t_corr_1 = t_arr_for_corr_t(audio_data49_3_3)\n",
    "plt.figure(figsize=(10,4))\n",
    "plt.plot(t_corr_1, corr_pgd_micrup, color='blue')\n",
    "plt.xlim(-0.2, 0.2)\n",
    "plt.grid(True)\n",
    "plt.show()"
   ]
  },
  {
   "cell_type": "code",
   "execution_count": null,
   "metadata": {},
   "outputs": [],
   "source": [
    "f = fftfreq(int(len(audio_data49_3_2)), 1 / sample_rate)\n",
    "#plot1_f(f, np.abs(ifft(audio_data49_1_1)), 'Спектр через ПГД', 1500, 'f, Гц')\n",
    "plot1_f(f, np.abs(ifft(audio_data49_1_3)), 'Спектр через микрофон', 1000, 'f, Гц')"
   ]
  },
  {
   "cell_type": "code",
   "execution_count": null,
   "metadata": {},
   "outputs": [],
   "source": [
    "f = fftfreq(int(len(audio_data49_1_1)), 1 / sample_rate)\n",
    "plot1_f(f, np.abs(ifft(audio_data49_1_3)), 'Спектр через ПГД', 1500, 'f, Гц')\n",
    "plot1_f(f, np.abs(ifft(audio_data16_2_3)), 'Спектр через микрофон', 1500, 'f, Гц')"
   ]
  },
  {
   "cell_type": "code",
   "execution_count": null,
   "metadata": {},
   "outputs": [],
   "source": [
    "f = fftfreq(int(len(audio_data49_3_1)), 1 / sample_rate)\n",
    "plt.figure(figsize=(10,4))\n",
    "plt.plot(f, np.abs(ifft(audio_data49_3_1)), color='blue')\n",
    "plt.xlim(0, 1000)\n",
    "plt.grid(True)\n",
    "plt.show()"
   ]
  },
  {
   "cell_type": "code",
   "execution_count": null,
   "metadata": {},
   "outputs": [],
   "source": [
    "\n",
    "for i in range (0, int(t_f_arr_3[3])):\n",
    "    i_beg = int(i*44100)\n",
    "    i_fin = int((i+1)*44100)\n",
    "    audiodata3_sec = audio_data16_2_3[i_beg:i_fin]\n",
    "#    audiodata1_sec = audio_data49_1_3[i_beg:i_fin]\n",
    "    f = fftfreq(int(len(audiodata3_sec)), 1 / sample_rate)\n",
    "    c = np.max(ifft(audiodata3_sec))/2\n",
    "    plt.figure(figsize=(10,4))\n",
    "#    plt.plot(f, np.abs(ifft(audiodata1_sec)), color='blue')\n",
    "    plt.plot(f, np.abs(ifft(audiodata3_sec)), color='blue')\n",
    "    plt.title(f'Портрет БПЛА на {i} секунде микрофоном со стойки')\n",
    "    plt.xlim(0, 1000)\n",
    "#   plt.ylim(0, 0.5)\n",
    "    plt.grid(True)\n",
    "    plt.show()\n",
    "    \n"
   ]
  },
  {
   "cell_type": "code",
   "execution_count": null,
   "metadata": {},
   "outputs": [],
   "source": [
    "data_0db = load_mat('/Users/bogda/Desktop/Acoustics/Scientific/Исходные данные/Matlab_Files/2023.03.31-11.59.31_channel_0.mat')\n",
    "data_70db = load_mat('/Users/bogda/Desktop/Acoustics/Scientific/Исходные данные/Matlab_Files/2023.03.31-11.52.03_channel_0.mat')\n",
    "sample_rate = 48000\n",
    "data_first, data_second = first_second_part(data_0db)\n",
    "mn = min(len(data_first), len(data_second))\n",
    "t = np.arange(int(mn))/sample_rate\n",
    "t_central = t - mn/sample_rate/2\n",
    "f = fftfreq(len(data_0db), 1 / sample_rate)"
   ]
  },
  {
   "cell_type": "code",
   "execution_count": null,
   "metadata": {},
   "outputs": [],
   "source": [
    "plt.figure(figsize=(10,4))\n",
    "plt.plot(f, np.abs(ifft(data_0db)), color='blue')\n",
    "plt.grid(True)\n",
    "plt.xlim(0, 1200)\n",
    "\n",
    "plt.show()"
   ]
  },
  {
   "cell_type": "code",
   "execution_count": null,
   "metadata": {},
   "outputs": [],
   "source": [
    "begin = int(10*sample_rate)\n",
    "end = int(10*sample_rate+(sample_rate*25/100))\n",
    "data_0db_sec_10 = data_0db[begin:end]\n",
    "\n",
    "begin = int(sample_rate)\n",
    "end = int(sample_rate*125/100)\n",
    "data_0db_sec_1 = data_0db[begin:end]\n",
    "f_1 = fftfreq(int(end-begin), 1 / sample_rate)\n",
    "plt.figure(figsize=(10,4))\n",
    "plt.plot(f_1, np.abs(ifft(data_0db_sec_1)), color='blue')\n",
    "plt.plot(f_1, np.abs(ifft(data_0db_sec_10)), color='red')\n",
    "plt.grid(True)\n",
    "plt.xlim(0, 1200)\n",
    "\n",
    "plt.show()"
   ]
  },
  {
   "cell_type": "code",
   "execution_count": null,
   "metadata": {},
   "outputs": [],
   "source": [
    "# Параметры для гауссовых функций\n",
    "centers = np.arange(230, 2000, 230)  \n",
    "amplitudes = np.array([100, 100, 100, 100, 100, 100 , 100, 100, 100, 100, 100, 100])  \n",
    "width = 4\n",
    "\n",
    "\n",
    "def gaussian(x, center, amplitude, width):\n",
    "    return amplitude * np.exp(-0.5 * ((x - center) / width) ** 2)\n",
    "\n",
    "spectrum_gaus = np.zeros_like(f_1) + 0.0001\n",
    "\n",
    "# Добавляем Гауссовы пики\n",
    "for center, amplitude in zip(centers, amplitudes):\n",
    "    spectrum_gaus += gaussian(f_1, center, amplitude, width)\n",
    "# spectrum_gaus_db = 20*np.log10(spectrum_gaus*1000)\n",
    "\n",
    "# a = []\n",
    "# for i in range (0, len(data_0db)//sample_rate):\n",
    "#     i_beg = int(i*sample_rate)\n",
    "#     i_fin = int((i+1)*sample_rate)\n",
    "#     data_0db_sec = data_0db[i_beg:i_fin]\n",
    "#     data_0db_db = 20*np.log10(np.abs(ifft(data_0db_sec))*1000)\n",
    "#     grad_data_0db_db = np.gradient(data_0db_db, f_1[0])\n",
    "#     grad_gaus_spec = np.gradient(spectrum_gaus_db, f_1)\n",
    "#     summarize = np.sum(grad_data_0db_db*grad_gaus_spec)\n",
    "#     a.append(summarize)"
   ]
  },
  {
   "cell_type": "code",
   "execution_count": null,
   "metadata": {},
   "outputs": [],
   "source": [
    "plt.figure(figsize=(10,4))\n",
    "plt.plot(f_1, spectrum_gaus, color='blue')\n",
    "plt.grid(True)\n",
    "plt.xlim(0, 1000)\n",
    "plt.show()"
   ]
  },
  {
   "cell_type": "code",
   "execution_count": null,
   "metadata": {},
   "outputs": [],
   "source": [
    "grad_gaus_spec = np.gradient(spectrum_gaus, f_1)\n",
    "plt.figure(figsize=(10,4))\n",
    "plt.plot(f_1, grad_gaus_spec, color='blue')\n",
    "plt.grid(True)\n",
    "plt.xlim(0, 1000)\n",
    "plt.show()"
   ]
  },
  {
   "cell_type": "code",
   "execution_count": null,
   "metadata": {},
   "outputs": [],
   "source": [
    "begin = int(sample_rate)\n",
    "end = int(sample_rate*125/100)\n",
    "data_0db_sec = data_0db[begin:end] \n",
    "spectrum = np.abs(ifft(data_0db_sec))\n",
    "# f_1 = fftfreq(end-begin, 1 / sample_rate)\n",
    "grad_spec = []\n",
    "for i in range(0, len(spectrum)-1):\n",
    "    c = (spectrum[i+1] - spectrum[i]) / (f_1[i+1] - f_1[i])\n",
    "    grad_spec.append(c)\n",
    "f_1 = f_1[:len(grad_spec)]\n",
    "\n",
    "plt.figure(figsize=(10,4))\n",
    "plt.plot(f_1, grad_spec, color='blue')\n",
    "plt.grid(True)\n",
    "plt.xlim(0, 1000)\n",
    "plt.show()"
   ]
  },
  {
   "cell_type": "code",
   "execution_count": null,
   "metadata": {},
   "outputs": [],
   "source": [
    "grad_gaus_spec = grad_gaus_spec[:len(grad_spec)]\n",
    "A = np.sum(grad_spec*grad_gaus_spec)\n",
    "print(A)"
   ]
  },
  {
   "cell_type": "code",
   "execution_count": null,
   "metadata": {},
   "outputs": [],
   "source": [
    "seconds = np.arange(len(data_0db)//sample_rate)\n",
    "plt.figure(figsize=(10,4))\n",
    "plt.plot(seconds, a, color='blue')\n",
    "plt.grid(True)\n",
    "plt.show()"
   ]
  },
  {
   "cell_type": "code",
   "execution_count": null,
   "metadata": {},
   "outputs": [],
   "source": [
    "plt.figure(figsize=(10,4))\n",
    "plt.plot(f, np.abs(ifft(data_0db)), color='blue')\n",
    "plt.grid(True)\n",
    "plt.xlim(220, 240)\n",
    "\n",
    "plt.show()"
   ]
  },
  {
   "cell_type": "code",
   "execution_count": null,
   "metadata": {},
   "outputs": [],
   "source": [
    "import numpy as np\n",
    "import scipy.signal as signal\n",
    "\n",
    "def generate_noise(frequencies, noise_type=\"white\", seed=None):\n",
    "    np.random.seed(seed)\n",
    "    num_samples = len(frequencies)\n",
    "    \n",
    "    # Генерация белого шума (равномерный спектр)\n",
    "    white_noise = 30*np.random.randn(num_samples)\n",
    "    \n",
    "    if noise_type == \"white\":\n",
    "        return white_noise\n",
    "    \n",
    "    # Генерация розового шума (1/f спектр)\n",
    "    elif noise_type == \"pink\":\n",
    "        \n",
    "        pink_noise = white/f_1\n",
    "        return pink_noise\n",
    "    \n",
    "    # Генерация красного (brownian) шума (1/f^2 спектр)\n",
    "    elif noise_type == \"red\":\n",
    "        uneven = num_samples % 2\n",
    "        X = np.random.randn(num_samples // 2 + 1 + uneven) + 1j * np.random.randn(num_samples // 2 + 1 + uneven)\n",
    "        S = np.fft.rfftfreq(num_samples, d=1.0)\n",
    "        S[0] = 1  # защита от деления на 0\n",
    "        X /= S  # Применяем фильтр 1/f^2\n",
    "        red_noise = np.fft.irfft(X)[:num_samples]\n",
    "        return red_noise\n",
    "    \n",
    "    else:\n",
    "        raise ValueError(\"Unknown noise type. Choose from 'white', 'pink', or 'red'.\")\n",
    "\n",
    "# Пример использования\n",
    "frequencies = f_1\n",
    "white = generate_noise(frequencies, \"white\")\n",
    "pink = generate_noise(frequencies, \"pink\")\n",
    "red = generate_noise(frequencies, \"red\")"
   ]
  },
  {
   "cell_type": "code",
   "execution_count": null,
   "metadata": {},
   "outputs": [],
   "source": [
    "plt.figure(figsize=(10,4))\n",
    "plt.plot(f_1, white, color='blue')\n",
    "plt.grid(True)\n",
    "plt.xlim(1000, 1200)\n",
    "\n",
    "plt.show()"
   ]
  },
  {
   "cell_type": "code",
   "execution_count": null,
   "metadata": {},
   "outputs": [],
   "source": [
    "b = []\n",
    "for i in range (0, len(data_0db)//sample_rate):\n",
    "    i_beg = int(i*sample_rate)\n",
    "    i_fin = int((i+1)*sample_rate)\n",
    "    data_0db_sec = data_0db[i_beg:i_fin]\n",
    "    data_0db_db = 20*np.log10(np.abs(ifft(data_0db_sec)+white)*1000)\n",
    "    grad_data_0db_db = np.gradient(data_0db_db, f_1)\n",
    "    grad_gaus_spec = np.gradient(spectrum_gaus_db, f_1)\n",
    "    summarize = np.sum(grad_data_0db_db*grad_gaus_spec)\n",
    "    b.append(summarize)"
   ]
  },
  {
   "cell_type": "code",
   "execution_count": null,
   "metadata": {},
   "outputs": [],
   "source": [
    "seconds = np.arange(len(data_0db)//sample_rate)\n",
    "plt.figure(figsize=(10,4))\n",
    "plt.plot(seconds, b, color='blue')\n",
    "plt.grid(True)\n",
    "plt.show()"
   ]
  }
 ],
 "metadata": {
  "kernelspec": {
   "display_name": "Python 3",
   "language": "python",
   "name": "python3"
  },
  "language_info": {
   "codemirror_mode": {
    "name": "ipython",
    "version": 3
   },
   "file_extension": ".py",
   "mimetype": "text/x-python",
   "name": "python",
   "nbconvert_exporter": "python",
   "pygments_lexer": "ipython3",
   "version": "3.11.8"
  }
 },
 "nbformat": 4,
 "nbformat_minor": 2
}
