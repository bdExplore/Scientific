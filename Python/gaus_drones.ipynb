{
 "cells": [
  {
   "cell_type": "code",
   "execution_count": null,
   "id": "4a7a2dd4",
   "metadata": {},
   "outputs": [],
   "source": [
    "# from scipy.io import loadmat\n",
    "import matplotlib.pyplot as plt\n",
    "import numpy as np\n",
    "from scipy.fft import ifft, fft, fftfreq, fftshift, ifft2, fft2\n",
    "from scipy import signal\n",
    "from scipy.io import wavfile\n",
    "import plotly\n",
    "import torch\n",
    "import plotly.graph_objs as go\n",
    "import plotly.express as px\n",
    "from plotly.subplots import make_subplots\n",
    "import pandas as pd\n",
    "from datetime import datetime, timedelta\n",
    "from audio_function import plot1, plot1_f, mean_data_sep, mean_autocorr_signal, corr_t, corr_f, count_time, cos_sim, cr_arr_t, norm_max, load_mat, first_second_part, filt_freq, variation_data, t_arr_for_corr_t\n",
    "from audio_function import df, audio_data49_3, audio_data49_2, audio_data16_3, audio_data16_2, sample_rate, audio_data49_1"
   ]
  },
  {
   "cell_type": "code",
   "execution_count": null,
   "id": "ea2f1277",
   "metadata": {},
   "outputs": [],
   "source": [
    "data_0db = load_mat('/Users/bogda/Desktop/Acoustics/Scientific/Исходные данные/Matlab_Files/2023.03.31-11.59.31_channel_0.mat')\n",
    "data_70db = load_mat('/Users/bogda/Desktop/Acoustics/Scientific/Исходные данные/Matlab_Files/2023.03.31-11.52.03_channel_0.mat')\n",
    "sample_rate = 48000\n",
    "data_first, data_second = first_second_part(data_0db)\n",
    "mn = min(len(data_first), len(data_second))\n",
    "t = np.arange(int(mn))/sample_rate\n",
    "t_central = t - mn/sample_rate/2\n",
    "f = fftfreq(len(data_0db), 1 / sample_rate)"
   ]
  },
  {
   "cell_type": "code",
   "execution_count": null,
   "id": "5383baac",
   "metadata": {},
   "outputs": [],
   "source": [
    "plt.figure(figsize=(10,4))\n",
    "plt.plot(f, np.abs(ifft(data_0db)), color='blue')\n",
    "plt.grid(True)\n",
    "plt.xlim(0, 1200)\n",
    "\n",
    "plt.show()"
   ]
  },
  {
   "cell_type": "code",
   "execution_count": null,
   "id": "2593a3a6",
   "metadata": {},
   "outputs": [],
   "source": [
    "begin = int(10*sample_rate)\n",
    "end = int(10*sample_rate+(sample_rate*25/100))\n",
    "data_0db_sec_10 = data_0db[begin:end]\n",
    "\n",
    "begin = int(sample_rate)\n",
    "end = int(sample_rate*125/100)\n",
    "data_0db_sec_1 = data_0db[begin:end]\n",
    "f_1 = fftfreq(int(end-begin), 1 / sample_rate)\n",
    "plt.figure(figsize=(10,4))\n",
    "plt.plot(f_1, np.abs(ifft(data_0db_sec_1)), color='blue')\n",
    "plt.plot(f_1, np.abs(ifft(data_0db_sec_10)), color='red')\n",
    "plt.grid(True)\n",
    "plt.xlim(0, 1200)\n",
    "\n",
    "plt.show()"
   ]
  },
  {
   "cell_type": "code",
   "execution_count": null,
   "id": "4234eabc",
   "metadata": {},
   "outputs": [],
   "source": [
    "# Параметры для гауссовых функций\n",
    "centers = np.arange(230, 2000, 230)  \n",
    "amplitudes = np.array([100, 100, 100, 100, 100, 100 , 100, 100, 100, 100, 100, 100])  \n",
    "width = 4\n",
    "\n",
    "\n",
    "def gaussian(x, center, amplitude, width):\n",
    "    return amplitude * np.exp(-0.5 * ((x - center) / width) ** 2)\n",
    "\n",
    "spectrum_gaus = np.zeros_like(f_1) + 0.0001\n",
    "\n",
    "# Добавляем Гауссовы пики\n",
    "for center, amplitude in zip(centers, amplitudes):\n",
    "    spectrum_gaus += gaussian(f_1, center, amplitude, width)\n",
    "# spectrum_gaus_db = 20*np.log10(spectrum_gaus*1000)\n",
    "\n",
    "# a = []\n",
    "# for i in range (0, len(data_0db)//sample_rate):\n",
    "#     i_beg = int(i*sample_rate)\n",
    "#     i_fin = int((i+1)*sample_rate)\n",
    "#     data_0db_sec = data_0db[i_beg:i_fin]\n",
    "#     data_0db_db = 20*np.log10(np.abs(ifft(data_0db_sec))*1000)\n",
    "#     grad_data_0db_db = np.gradient(data_0db_db, f_1[0])\n",
    "#     grad_gaus_spec = np.gradient(spectrum_gaus_db, f_1)\n",
    "#     summarize = np.sum(grad_data_0db_db*grad_gaus_spec)\n",
    "#     a.append(summarize)"
   ]
  },
  {
   "cell_type": "code",
   "execution_count": null,
   "id": "60e8d912",
   "metadata": {},
   "outputs": [],
   "source": [
    "plt.figure(figsize=(10,4))\n",
    "plt.plot(f_1, spectrum_gaus, color='blue')\n",
    "plt.grid(True)\n",
    "plt.xlim(0, 1000)\n",
    "plt.show()"
   ]
  },
  {
   "cell_type": "code",
   "execution_count": null,
   "id": "cafcac9a",
   "metadata": {},
   "outputs": [],
   "source": [
    "grad_gaus_spec = np.gradient(spectrum_gaus, f_1)\n",
    "plt.figure(figsize=(10,4))\n",
    "plt.plot(f_1, grad_gaus_spec, color='blue')\n",
    "plt.grid(True)\n",
    "plt.xlim(0, 1000)\n",
    "plt.show()"
   ]
  },
  {
   "cell_type": "code",
   "execution_count": null,
   "id": "b9881881",
   "metadata": {},
   "outputs": [],
   "source": [
    "begin = int(sample_rate)\n",
    "end = int(sample_rate*125/100)\n",
    "data_0db_sec = data_0db[begin:end] \n",
    "spectrum = np.abs(ifft(data_0db_sec))\n",
    "# f_1 = fftfreq(end-begin, 1 / sample_rate)\n",
    "grad_spec = []\n",
    "for i in range(0, len(spectrum)-1):\n",
    "    c = (spectrum[i+1] - spectrum[i]) / (f_1[i+1] - f_1[i])\n",
    "    grad_spec.append(c)\n",
    "f_1 = f_1[:len(grad_spec)]\n",
    "\n",
    "plt.figure(figsize=(10,4))\n",
    "plt.plot(f_1, grad_spec, color='blue')\n",
    "plt.grid(True)\n",
    "plt.xlim(0, 1000)\n",
    "plt.show()"
   ]
  },
  {
   "cell_type": "code",
   "execution_count": null,
   "id": "b19ec67c",
   "metadata": {},
   "outputs": [],
   "source": [
    "grad_gaus_spec = grad_gaus_spec[:len(grad_spec)]\n",
    "A = np.sum(grad_spec*grad_gaus_spec)\n",
    "print(A)"
   ]
  },
  {
   "cell_type": "code",
   "execution_count": null,
   "id": "dd04d92c",
   "metadata": {},
   "outputs": [],
   "source": [
    "seconds = np.arange(len(data_0db)//sample_rate)\n",
    "plt.figure(figsize=(10,4))\n",
    "plt.plot(seconds, a, color='blue')\n",
    "plt.grid(True)\n",
    "plt.show()"
   ]
  },
  {
   "cell_type": "code",
   "execution_count": null,
   "id": "289286e9",
   "metadata": {},
   "outputs": [],
   "source": [
    "plt.figure(figsize=(10,4))\n",
    "plt.plot(f, np.abs(ifft(data_0db)), color='blue')\n",
    "plt.grid(True)\n",
    "plt.xlim(220, 240)\n",
    "\n",
    "plt.show()"
   ]
  },
  {
   "cell_type": "code",
   "execution_count": null,
   "id": "929937cd",
   "metadata": {},
   "outputs": [],
   "source": [
    "import numpy as np\n",
    "import scipy.signal as signal\n",
    "\n",
    "def generate_noise(frequencies, noise_type=\"white\", seed=None):\n",
    "    np.random.seed(seed)\n",
    "    num_samples = len(frequencies)\n",
    "    \n",
    "    # Генерация белого шума (равномерный спектр)\n",
    "    white_noise = 30*np.random.randn(num_samples)\n",
    "    \n",
    "    if noise_type == \"white\":\n",
    "        return white_noise\n",
    "    \n",
    "    # Генерация розового шума (1/f спектр)\n",
    "    elif noise_type == \"pink\":\n",
    "        \n",
    "        pink_noise = white/f_1\n",
    "        return pink_noise\n",
    "    \n",
    "    # Генерация красного (brownian) шума (1/f^2 спектр)\n",
    "    elif noise_type == \"red\":\n",
    "        uneven = num_samples % 2\n",
    "        X = np.random.randn(num_samples // 2 + 1 + uneven) + 1j * np.random.randn(num_samples // 2 + 1 + uneven)\n",
    "        S = np.fft.rfftfreq(num_samples, d=1.0)\n",
    "        S[0] = 1  # защита от деления на 0\n",
    "        X /= S  # Применяем фильтр 1/f^2\n",
    "        red_noise = np.fft.irfft(X)[:num_samples]\n",
    "        return red_noise\n",
    "    \n",
    "    else:\n",
    "        raise ValueError(\"Unknown noise type. Choose from 'white', 'pink', or 'red'.\")\n",
    "\n",
    "# Пример использования\n",
    "frequencies = f_1\n",
    "white = generate_noise(frequencies, \"white\")\n",
    "pink = generate_noise(frequencies, \"pink\")\n",
    "red = generate_noise(frequencies, \"red\")"
   ]
  },
  {
   "cell_type": "code",
   "execution_count": null,
   "id": "8d4fda19",
   "metadata": {},
   "outputs": [],
   "source": [
    "plt.figure(figsize=(10,4))\n",
    "plt.plot(f_1, white, color='blue')\n",
    "plt.grid(True)\n",
    "plt.xlim(1000, 1200)\n",
    "\n",
    "plt.show()"
   ]
  },
  {
   "cell_type": "code",
   "execution_count": null,
   "id": "3463b0a8",
   "metadata": {},
   "outputs": [],
   "source": [
    "b = []\n",
    "for i in range (0, len(data_0db)//sample_rate):\n",
    "    i_beg = int(i*sample_rate)\n",
    "    i_fin = int((i+1)*sample_rate)\n",
    "    data_0db_sec = data_0db[i_beg:i_fin]\n",
    "    data_0db_db = 20*np.log10(np.abs(ifft(data_0db_sec)+white)*1000)\n",
    "    grad_data_0db_db = np.gradient(data_0db_db, f_1)\n",
    "    grad_gaus_spec = np.gradient(spectrum_gaus_db, f_1)\n",
    "    summarize = np.sum(grad_data_0db_db*grad_gaus_spec)\n",
    "    b.append(summarize)"
   ]
  },
  {
   "cell_type": "code",
   "execution_count": null,
   "id": "948b5268",
   "metadata": {},
   "outputs": [],
   "source": [
    "seconds = np.arange(len(data_0db)//sample_rate)\n",
    "plt.figure(figsize=(10,4))\n",
    "plt.plot(seconds, b, color='blue')\n",
    "plt.grid(True)\n",
    "plt.show()"
   ]
  }
 ],
 "metadata": {
  "language_info": {
   "name": "python"
  }
 },
 "nbformat": 4,
 "nbformat_minor": 5
}
